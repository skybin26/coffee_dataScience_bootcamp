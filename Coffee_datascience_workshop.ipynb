{
  "nbformat": 4,
  "nbformat_minor": 0,
  "metadata": {
    "colab": {
      "name": "Coffee-datascience-workshop.ipynb",
      "provenance": []
    },
    "kernelspec": {
      "name": "python3",
      "display_name": "Python 3"
    },
    "language_info": {
      "name": "python"
    }
  },
  "cells": [
    {
      "cell_type": "markdown",
      "source": [
        "1. Write a Python program which accepts the user's first and last name and prints them in\n",
        "reverse order with a space between them."
      ],
      "metadata": {
        "id": "ao4cnLkd9ilV"
      }
    },
    {
      "cell_type": "code",
      "source": [
        "s=input()\n",
        "print(' '.join(reversed(s.split())))"
      ],
      "metadata": {
        "colab": {
          "base_uri": "https://localhost:8080/"
        },
        "id": "sdoa-U149l8A",
        "outputId": "3648cee8-5b9e-4474-ac5e-51f581c96ba9"
      },
      "execution_count": null,
      "outputs": [
        {
          "output_type": "stream",
          "name": "stdout",
          "text": [
            "Hello world!\n",
            "world! Hello\n"
          ]
        }
      ]
    },
    {
      "cell_type": "markdown",
      "source": [
        "2. Write a Python program which accepts a sequence of comma-separated numbers from the\n",
        "user and generates a list and a tuple with those numbers.\n",
        "Sample data : 3, 5, 7, 23\n",
        "Output :\n",
        "List : ['3', ' 5', ' 7', ' 23']\n",
        "Tuple : ('3', ' 5', ' 7', ' 23')"
      ],
      "metadata": {
        "id": "2XA56WOq-U3v"
      }
    },
    {
      "cell_type": "code",
      "source": [
        "s=input()\n",
        "l=[x for x in s.split(',')]\n",
        "t=tuple(l)\n",
        "print('List:',l)\n",
        "print('Tuple:',t)"
      ],
      "metadata": {
        "colab": {
          "base_uri": "https://localhost:8080/"
        },
        "id": "WjNDeR0U-vE5",
        "outputId": "3dc1a0a1-2ceb-4111-81c9-b66c393e47dd"
      },
      "execution_count": null,
      "outputs": [
        {
          "output_type": "stream",
          "name": "stdout",
          "text": [
            "3,5,7,23\n",
            "List: ['3', '5', '7', '23']\n",
            "Tuple: ('3', '5', '7', '23')\n"
          ]
        }
      ]
    },
    {
      "cell_type": "markdown",
      "source": [
        "3. Write a Python program to display the first and last colours from the following list.\n",
        "color_list = [\"Red\",\"Green\",\"White\" ,\"Black\"]"
      ],
      "metadata": {
        "id": "YueJt9_UZhXp"
      }
    },
    {
      "cell_type": "code",
      "source": [
        "color_list=['Red','Green','White','Black']\n",
        "print(color_list[0],color_list[-1])"
      ],
      "metadata": {
        "colab": {
          "base_uri": "https://localhost:8080/"
        },
        "id": "owT8g0c3ZlX0",
        "outputId": "ab95e80b-37ca-47ec-bfa0-5eca35d7c044"
      },
      "execution_count": null,
      "outputs": [
        {
          "output_type": "stream",
          "name": "stdout",
          "text": [
            "Red Black\n"
          ]
        }
      ]
    },
    {
      "cell_type": "markdown",
      "source": [
        "4. Write a Python program to print the documents (syntax, description etc.) of Python built-in\n",
        "function(s).\n",
        "Sample function : abs()\n",
        "Expected Result : mat\n",
        "abs(number) -> number\n",
        "Return the absolute value of the argument."
      ],
      "metadata": {
        "id": "R3cO7gs3Z5Jr"
      }
    },
    {
      "cell_type": "code",
      "source": [
        "print(help(abs))\n",
        "print(abs.__doc__)\n",
        "print(abs(3.45))"
      ],
      "metadata": {
        "colab": {
          "base_uri": "https://localhost:8080/"
        },
        "id": "RehYCqh7Z8n6",
        "outputId": "a11e20f7-8b54-44c1-84fa-090bbd79abb2"
      },
      "execution_count": null,
      "outputs": [
        {
          "output_type": "stream",
          "name": "stdout",
          "text": [
            "Help on built-in function abs in module builtins:\n",
            "\n",
            "abs(x, /)\n",
            "    Return the absolute value of the argument.\n",
            "\n",
            "None\n",
            "Return the absolute value of the argument.\n",
            "3.45\n"
          ]
        }
      ]
    },
    {
      "cell_type": "markdown",
      "source": [
        "5. Write a Python program to print the calendar of a given month and year.\n",
        "Note : Use 'calendar' module"
      ],
      "metadata": {
        "id": "son-bQurdXaz"
      }
    },
    {
      "cell_type": "code",
      "source": [
        "import calendar\n",
        "m=int(input('month:'))\n",
        "y=int(input('year'))\n",
        "print(calendar.month(y,m))"
      ],
      "metadata": {
        "colab": {
          "base_uri": "https://localhost:8080/"
        },
        "id": "axMTUStOddro",
        "outputId": "07c23976-e268-47e2-ed2f-db1187649ec7"
      },
      "execution_count": null,
      "outputs": [
        {
          "output_type": "stream",
          "name": "stdout",
          "text": [
            "month:8\n",
            "year2022\n",
            "    August 2022\n",
            "Mo Tu We Th Fr Sa Su\n",
            " 1  2  3  4  5  6  7\n",
            " 8  9 10 11 12 13 14\n",
            "15 16 17 18 19 20 21\n",
            "22 23 24 25 26 27 28\n",
            "29 30 31\n",
            "\n"
          ]
        }
      ]
    },
    {
      "cell_type": "markdown",
      "source": [
        "6. Write a Python program to calculate number of days between two dates.\n",
        "Sample dates : (2014, 7, 2), (2014, 7, 11)\n",
        "Expected output : 9 days"
      ],
      "metadata": {
        "id": "9boJYISgfeCX"
      }
    },
    {
      "cell_type": "code",
      "source": [
        "from datetime import date\n",
        "x=date(2014,7,2)\n",
        "y=date(2014,7,11)\n",
        "print((y-x).days,'days')"
      ],
      "metadata": {
        "colab": {
          "base_uri": "https://localhost:8080/"
        },
        "id": "b-qC7vHhflF2",
        "outputId": "f2cb2a1f-c602-4bb0-8171-b5398c2f30b3"
      },
      "execution_count": null,
      "outputs": [
        {
          "output_type": "stream",
          "name": "stdout",
          "text": [
            "9 days\n"
          ]
        }
      ]
    },
    {
      "cell_type": "markdown",
      "source": [
        "7. Write a Python program to check whether a specified value is contained in a group of values.\n",
        "Test Data :\n",
        "3 -> [1, 5, 8, 3] : True\n",
        "-1 -> [1, 5, 8, 3] : False"
      ],
      "metadata": {
        "id": "iSl5tOkrgpew"
      }
    },
    {
      "cell_type": "code",
      "source": [
        "arr=[1,5,8,3]\n",
        "x=int(input())\n",
        "if x in arr:\n",
        "  print(True)\n",
        "else:\n",
        "  print(False)"
      ],
      "metadata": {
        "colab": {
          "base_uri": "https://localhost:8080/"
        },
        "id": "9ajFy9MogtSJ",
        "outputId": "c58dadea-824f-476c-d94f-1d362b481acb"
      },
      "execution_count": null,
      "outputs": [
        {
          "output_type": "stream",
          "name": "stdout",
          "text": [
            "-1\n",
            "False\n"
          ]
        }
      ]
    },
    {
      "cell_type": "markdown",
      "source": [
        "8. Write a Python program to create a histogram from a given list of integers."
      ],
      "metadata": {
        "id": "Y6IswB83hJtg"
      }
    },
    {
      "cell_type": "code",
      "source": [
        "x=list(map(int,input().split()))\n",
        "for i in x:\n",
        "  while i>0:\n",
        "    i-=1\n",
        "    print(':',end='')\n",
        "  print()"
      ],
      "metadata": {
        "id": "WW2FDHEfhOdX",
        "colab": {
          "base_uri": "https://localhost:8080/"
        },
        "outputId": "ae2ba96f-67ae-4e89-8cc5-23867e409737"
      },
      "execution_count": 40,
      "outputs": [
        {
          "output_type": "stream",
          "name": "stdout",
          "text": [
            "8 5 1 6\n",
            "::::::::\n",
            ":::::\n",
            ":\n",
            "::::::\n"
          ]
        }
      ]
    },
    {
      "cell_type": "markdown",
      "source": [
        "9. Write a Python program to concatenate all elements in a list into a string and return it."
      ],
      "metadata": {
        "id": "6UdpjA8ehSrT"
      }
    },
    {
      "cell_type": "code",
      "source": [
        "l=[1,1.1,'a','abc',True]\n",
        "s=''\n",
        "for x in l:\n",
        "  s+=str(x)\n",
        "print(s)"
      ],
      "metadata": {
        "id": "kZkKMyZ4iU0s",
        "colab": {
          "base_uri": "https://localhost:8080/"
        },
        "outputId": "6364e89d-a615-4673-beff-c722d057224d"
      },
      "execution_count": 41,
      "outputs": [
        {
          "output_type": "stream",
          "name": "stdout",
          "text": [
            "11.1aabcTrue\n"
          ]
        }
      ]
    },
    {
      "cell_type": "markdown",
      "source": [
        "10. Write a Python program to print out a set containing all the colors from color_list_1 which are\n",
        "not present in color_list_2.\n",
        "Test Data :\n",
        "color_list_1 = set([\"White\", \"Black\", \"Red\"])\n",
        "color_list_2 = set([\"Red\", \"Green\"])\n",
        "Expected Output :{'Black', 'White'}"
      ],
      "metadata": {
        "id": "1cWGNOM5hV33"
      }
    },
    {
      "cell_type": "code",
      "source": [
        "l1=set(['white','black','red'])\n",
        "l2=set(['red','green'])\n",
        "print(l1-l2)"
      ],
      "metadata": {
        "id": "aHAy4ISqiV3u",
        "colab": {
          "base_uri": "https://localhost:8080/"
        },
        "outputId": "bcdfc29d-824f-4789-f583-f8673b5f5210"
      },
      "execution_count": 42,
      "outputs": [
        {
          "output_type": "stream",
          "name": "stdout",
          "text": [
            "{'black', 'white'}\n"
          ]
        }
      ]
    },
    {
      "cell_type": "markdown",
      "source": [
        "11. Write a Python program to check whether a file exists."
      ],
      "metadata": {
        "id": "sYSPUlohhb-0"
      }
    },
    {
      "cell_type": "code",
      "source": [
        "from os.path import exists\n",
        "f=exists(r\"revathi_chowdalla_resume.pdf\")\n",
        "print(f)"
      ],
      "metadata": {
        "id": "Zx1qI3_biWWF",
        "colab": {
          "base_uri": "https://localhost:8080/"
        },
        "outputId": "3bf8f5c3-1d6c-4426-9b7c-6602c64a4e04"
      },
      "execution_count": 79,
      "outputs": [
        {
          "output_type": "stream",
          "name": "stdout",
          "text": [
            "False\n"
          ]
        }
      ]
    },
    {
      "cell_type": "code",
      "source": [
        "from pathlib import Path\n",
        "path = Path(r\"C:\\Users\\Phani\\Downloads\\keerthana v (2).pdf\")\n",
        "path.is_file()"
      ],
      "metadata": {
        "colab": {
          "base_uri": "https://localhost:8080/"
        },
        "id": "sLZpvUJg5z4l",
        "outputId": "d0a90a6b-c4c8-4e4b-ce3e-21fac200d093"
      },
      "execution_count": 73,
      "outputs": [
        {
          "output_type": "execute_result",
          "data": {
            "text/plain": [
              "False"
            ]
          },
          "metadata": {},
          "execution_count": 73
        }
      ]
    },
    {
      "cell_type": "markdown",
      "source": [
        "12. Write a python program to call an external command in Python."
      ],
      "metadata": {
        "id": "c5Mf4tCcheo_"
      }
    },
    {
      "cell_type": "code",
      "source": [
        "import os\n",
        "os.system(\"dir *.md\")"
      ],
      "metadata": {
        "id": "HMcuthb-iWsK",
        "colab": {
          "base_uri": "https://localhost:8080/"
        },
        "outputId": "7b2fd652-7490-41b5-c958-acbfddfb3893"
      },
      "execution_count": 68,
      "outputs": [
        {
          "output_type": "execute_result",
          "data": {
            "text/plain": [
              "512"
            ]
          },
          "metadata": {},
          "execution_count": 68
        }
      ]
    },
    {
      "cell_type": "code",
      "source": [
        "import os\n",
        "os.system(\"calc\")"
      ],
      "metadata": {
        "colab": {
          "base_uri": "https://localhost:8080/"
        },
        "id": "UaQZ76GB95Zt",
        "outputId": "31b394a5-d842-4270-b33c-62068cd7c7aa"
      },
      "execution_count": 69,
      "outputs": [
        {
          "output_type": "execute_result",
          "data": {
            "text/plain": [
              "32512"
            ]
          },
          "metadata": {},
          "execution_count": 69
        }
      ]
    },
    {
      "cell_type": "markdown",
      "source": [
        "13. Write a Python program to find out the number of CPUs using."
      ],
      "metadata": {
        "id": "G_i2vy0ThhYp"
      }
    },
    {
      "cell_type": "code",
      "source": [
        "import multiprocessing\n",
        "print(multiprocessing.cpu_count())"
      ],
      "metadata": {
        "id": "nGTmFofUiXLb",
        "colab": {
          "base_uri": "https://localhost:8080/"
        },
        "outputId": "47dccb3f-7352-4368-efe9-8779bf9dff51"
      },
      "execution_count": 70,
      "outputs": [
        {
          "output_type": "stream",
          "name": "stdout",
          "text": [
            "2\n"
          ]
        }
      ]
    },
    {
      "cell_type": "markdown",
      "source": [
        "14. Write a Python program to list all files in a directory in Python."
      ],
      "metadata": {
        "id": "nZnzbukKhklF"
      }
    },
    {
      "cell_type": "code",
      "source": [
        "import os\n",
        "path = r\"C:\\Users\\Phani\\Documents\\kiran project\"\n",
        "dir_list = os.listdir(path) \n",
        "print(\"Files and directories in '\", path, \"' :\")\n",
        "print(dir_list)"
      ],
      "metadata": {
        "id": "-OGQ4iSgiXnT"
      },
      "execution_count": null,
      "outputs": []
    },
    {
      "cell_type": "markdown",
      "source": [
        "15. Write a python program to access environment variables."
      ],
      "metadata": {
        "id": "yVRg6FSUhnK_"
      }
    },
    {
      "cell_type": "code",
      "source": [
        "import os\n",
        "# Access all environment variables \n",
        "print('*----------------------------------*')\n",
        "print(os.environ)\n",
        "print('*----------------------------------*')\n",
        "# Access a particular environment variable \n",
        "print(os.environ['HOME'])\n",
        "print('*----------------------------------*')\n",
        "print(os.environ['PATH'])\n",
        "print('*----------------------------------*')"
      ],
      "metadata": {
        "id": "8YEV4z_3iYEL",
        "colab": {
          "base_uri": "https://localhost:8080/"
        },
        "outputId": "ced9f04a-f91d-4162-c80a-94535622564b"
      },
      "execution_count": 80,
      "outputs": [
        {
          "output_type": "stream",
          "name": "stdout",
          "text": [
            "*----------------------------------*\n",
            "environ({'NV_LIBCUBLAS_DEV_VERSION': '11.3.0.106-1', 'NV_CUDA_COMPAT_PACKAGE': 'cuda-compat-11-1', 'NV_CUDNN_PACKAGE_DEV': 'libcudnn8-dev=8.0.5.39-1+cuda11.1', 'LD_LIBRARY_PATH': '/usr/local/nvidia/lib:/usr/local/nvidia/lib64', 'NV_LIBNCCL_DEV_PACKAGE': 'libnccl-dev=2.8.4-1+cuda11.1', 'CLOUDSDK_PYTHON': 'python3', 'LANG': 'en_US.UTF-8', 'NV_LIBNPP_DEV_PACKAGE': 'libnpp-dev-11-1=11.1.2.301-1', 'HOSTNAME': '3485b7af6285', 'OLDPWD': '/', 'CLOUDSDK_CONFIG': '/content/.config', 'NV_LIBNPP_VERSION': '11.1.2.301-1', 'NV_NVPROF_DEV_PACKAGE': 'cuda-nvprof-11-1=11.1.105-1', 'NVIDIA_VISIBLE_DEVICES': 'all', 'NV_NVPROF_VERSION': '11.1.105-1', 'NV_LIBCUSPARSE_VERSION': '11.3.0.10-1', 'DATALAB_SETTINGS_OVERRIDES': '{\"kernelManagerProxyPort\":6000,\"kernelManagerProxyHost\":\"172.28.0.3\",\"jupyterArgs\":[\"--ip=172.28.0.2\"],\"debugAdapterMultiplexerPath\":\"/usr/local/bin/dap_multiplexer\",\"enableLsp\":true}', 'NV_LIBCUBLAS_DEV_PACKAGE': 'libcublas-dev-11-1=11.3.0.106-1', 'ENV': '/root/.bashrc', 'NCCL_VERSION': '2.8.4-1', 'TF_FORCE_GPU_ALLOW_GROWTH': 'true', 'NO_GCE_CHECK': 'False', 'PWD': '/', 'NVARCH': 'x86_64', 'HOME': '/root', 'NV_LIBCUSPARSE_DEV_VERSION': '11.3.0.10-1', 'LAST_FORCED_REBUILD': '20220726', 'NV_LIBNCCL_PACKAGE_VERSION': '2.8.4-1', 'NV_LIBNCCL_PACKAGE': 'libnccl2=2.8.4-1+cuda11.1', 'DEBIAN_FRONTEND': 'noninteractive', 'NV_LIBNCCL_DEV_PACKAGE_NAME': 'libnccl-dev', 'NV_CUDA_LIB_VERSION': '11.1.1-1', 'NV_LIBNPP_PACKAGE': 'libnpp-11-1=11.1.2.301-1', 'NV_LIBNCCL_PACKAGE_NAME': 'libnccl2', 'LIBRARY_PATH': '/usr/local/cuda/lib64/stubs', 'NV_NVTX_VERSION': '11.1.74-1', 'NV_LIBCUBLAS_VERSION': '11.3.0.106-1', 'NV_LIBCUBLAS_PACKAGE': 'libcublas-11-1=11.3.0.106-1', 'GCE_METADATA_TIMEOUT': '3', 'NV_CUDNN_VERSION': '8.0.5.39', 'NV_CUDA_CUDART_DEV_VERSION': '11.1.74-1', 'GLIBCPP_FORCE_NEW': '1', 'TBE_CREDS_ADDR': '172.28.0.1:8008', 'SHELL': '/bin/bash', 'GCS_READ_CACHE_BLOCK_SIZE_MB': '16', 'NV_NVML_DEV_VERSION': '11.1.74-1', 'PYTHONWARNINGS': 'ignore:::pip._internal.cli.base_command', 'CUDA_VERSION': '11.1.1', 'NV_LIBCUBLAS_PACKAGE_NAME': 'libcublas-11-1', 'NVIDIA_DRIVER_CAPABILITIES': 'compute,utility', 'SHLVL': '0', 'PYTHONPATH': '/env/python', 'NV_LIBCUBLAS_DEV_PACKAGE_NAME': 'libcublas-dev-11-1', 'NVIDIA_REQUIRE_CUDA': 'cuda>=11.1 brand=tesla,driver>=418,driver<419 brand=tesla,driver>=450,driver<451', 'NV_LIBNPP_DEV_VERSION': '11.1.2.301-1', 'TBE_EPHEM_CREDS_ADDR': '172.28.0.1:8009', 'NV_CUDA_CUDART_VERSION': '11.1.74-1', 'COLAB_GPU': '0', 'NV_CUDNN_PACKAGE_NAME': 'libcudnn8', 'GLIBCXX_FORCE_NEW': '1', 'PATH': '/opt/bin:/usr/local/nvidia/bin:/usr/local/cuda/bin:/usr/local/sbin:/usr/local/bin:/usr/sbin:/usr/bin:/sbin:/bin:/tools/node/bin:/tools/google-cloud-sdk/bin', 'NV_LIBNCCL_DEV_PACKAGE_VERSION': '2.8.4-1', 'LD_PRELOAD': '/usr/lib/x86_64-linux-gnu/libtcmalloc.so.4', 'NV_CUDNN_PACKAGE': 'libcudnn8=8.0.5.39-1+cuda11.1', 'JPY_PARENT_PID': '41', 'TERM': 'xterm-color', 'CLICOLOR': '1', 'PAGER': 'cat', 'GIT_PAGER': 'cat', 'MPLBACKEND': 'module://ipykernel.pylab.backend_inline', 'ENABLE_DIRECTORYPREFETCHER': '1', 'USE_AUTH_EPHEM': '1', 'PYDEVD_USE_FRAME_EVAL': 'NO'})\n",
            "*----------------------------------*\n",
            "/root\n",
            "*----------------------------------*\n",
            "/opt/bin:/usr/local/nvidia/bin:/usr/local/cuda/bin:/usr/local/sbin:/usr/local/bin:/usr/sbin:/usr/bin:/sbin:/bin:/tools/node/bin:/tools/google-cloud-sdk/bin\n",
            "*----------------------------------*\n"
          ]
        }
      ]
    },
    {
      "cell_type": "markdown",
      "source": [
        "16. Write a Python program to get the current username"
      ],
      "metadata": {
        "id": "HtTJgLLyhq38"
      }
    },
    {
      "cell_type": "code",
      "source": [
        ""
      ],
      "metadata": {
        "id": "y7fxTzDoC0sW"
      },
      "execution_count": null,
      "outputs": []
    }
  ]
}